{
 "cells": [
  {
   "cell_type": "code",
   "execution_count": 15,
   "metadata": {},
   "outputs": [],
   "source": [
    "import numpy as np\n",
    "import random\n",
    "\n",
    "def score_game(game_core):\n",
    "    '''Запускаем игру 1000 раз, чтобы узнать, как быстро игра угадывает число'''\n",
    "    \n",
    "    count_ls = []\n",
    "    random.seed(1)  # фиксируем RANDOM SEED, чтобы ваш эксперимент был воспроизводим!\n",
    "    random_array = np.random.randint(1,101, size=1000)\n",
    "    for number in random_array:\n",
    "        count_ls.append(game_core(number))\n",
    "    score = int(np.mean(count_ls))\n",
    "    print(f\"Ваш алгоритм угадывает число в среднем за {score} попыток\")\n",
    "    return(score)\n",
    "\n",
    "def game_core_v3(number):\n",
    "    '''Сначала устанавливаем любое random число, а потом уменьшаем или увеличиваем его в зависимости от того,\n",
    "    больше оно или меньше нужного. Функция принимает загаданное число и возвращает число попыток'''\n",
    "    \n",
    "    count = 1\n",
    "   \n",
    "    predict = np.random.randint(1,101)\n",
    "    lowest_half_limit = 0\n",
    "    highest_half_limit = 100\n",
    "    count = 0\n",
    "    \n",
    "    while number != predict:\n",
    "        count+=1\n",
    "        if predict == number:\n",
    "            break # выход из цикла, если угадали\n",
    "            \n",
    "        elif predict < number: \n",
    "            lowest_half_limit = predict\n",
    "            predict = round((predict + highest_half_limit)/2) \n",
    "            '''Округляем при делении результат с помощью функцииround при необходимости. Исходя из гипотезы, \n",
    "            если предугадываемое число меньше загадываемого числа, то предугадываемое число мы складываем с \n",
    "            наивысшей числовой половиной границы загадываемого числа и эту сумму делим пополам, как упоминалось \n",
    "            выше, округляя число с помощью встроенной функцией round.'''\n",
    "                \n",
    "        else:\n",
    "            highest_half_limit = predict \n",
    "            predict = round((predict + lowest_half_limit)/2) \n",
    "            '''Округляем при делении результат спомощью функции round при необходимости. Исходя из гипотезы, \n",
    "            если предугадываемое число большезагадываемого числа, то предугадываемое число мы складываем с \n",
    "            наименьшей числовой половиной границы загадываемого числа и эту сумму делим пополам, как упоминалось \n",
    "            выше, округляя число с помощью встроенной функцией round'''\n",
    "            \n",
    "            \n",
    "    return(count) # выход из цикла, если угадали\n",
    "\n"
   ]
  },
  {
   "cell_type": "code",
   "execution_count": 16,
   "metadata": {},
   "outputs": [
    {
     "name": "stdout",
     "output_type": "stream",
     "text": [
      "Ваш алгоритм угадывает число в среднем за 5 попыток\n"
     ]
    },
    {
     "data": {
      "text/plain": [
       "5"
      ]
     },
     "execution_count": 16,
     "metadata": {},
     "output_type": "execute_result"
    }
   ],
   "source": [
    "    score_game(game_core_v3)"
   ]
  },
  {
   "cell_type": "markdown",
   "metadata": {},
   "source": [
    "Вывод такой:\n",
    "Ваш алгоритм угадывает число в среднем за 5 попыток"
   ]
  }
 ],
 "metadata": {
  "kernelspec": {
   "display_name": "Python 3",
   "language": "python",
   "name": "python3"
  },
  "language_info": {
   "codemirror_mode": {
    "name": "ipython",
    "version": 3
   },
   "file_extension": ".py",
   "mimetype": "text/x-python",
   "name": "python",
   "nbconvert_exporter": "python",
   "pygments_lexer": "ipython3",
   "version": "3.8.5"
  }
 },
 "nbformat": 4,
 "nbformat_minor": 4
}
