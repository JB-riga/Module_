{
 "cells": [
  {
   "cell_type": "markdown",
   "metadata": {},
   "source": [
    "УГАДАЙ ЧИСЛО!\n",
    "\n",
    "Итак, компьютер загадывает целое число от 1 до 100, и нам его нужно угадать. Под «угадать», конечно, подразумевается «написать программу, которая угадывает число».\n",
    "\n",
    "Ниже представлен готовый код, который вы можете запустить и сыграть с компьютером:\n"
   ]
  },
  {
   "cell_type": "code",
   "execution_count": 1,
   "metadata": {},
   "outputs": [
    {
     "name": "stdout",
     "output_type": "stream",
     "text": [
      "Загадано число от 1 до 100\n",
      "50\n",
      "Угадываемое число меньше 50 \n",
      "25\n",
      "Угадываемое число больше 25 \n",
      "35\n",
      "Угадываемое число больше 35 \n",
      "40\n",
      "Угадываемое число больше 40 \n",
      "45\n",
      "Угадываемое число больше 45 \n",
      "47\n",
      "Угадываемое число больше 47 \n",
      "49\n",
      "Угадываемое число меньше 49 \n",
      "48\n",
      "Вы угадали число 48 за 8 попыток.\n"
     ]
    }
   ],
   "source": [
    "import numpy as np\n",
    "\n",
    "count = 0                           # счетчик попыток\n",
    "number = np.random.randint(1,101)   # загадали число\n",
    "print (\"Загадано число от 1 до 100\")\n",
    "    \n",
    "while True:                        # бесконечный цикл\n",
    "    predict = int(input())         # предполагаемое число\n",
    "    count += 1                     # плюсуем попытку\n",
    "    if number == predict: break    # выход из цикла, если угадали\n",
    "    elif number > predict: print (f\"Угадываемое число больше {predict} \")\n",
    "    elif number < predict: print (f\"Угадываемое число меньше {predict} \")\n",
    "            \n",
    "print (f\"Вы угадали число {number} за {count} попыток.\")    \n",
    "\n",
    "    "
   ]
  },
  {
   "cell_type": "markdown",
   "metadata": {},
   "source": [
    "Попробуем сыграть. В случае автора модуля вывод был такой:\n",
    "\n",
    "Загадано число от 1 до 100\n",
    "1\n",
    "Угадываемое число больше 1\n",
    "10\n",
    "Угадываемое число больше 10\n",
    "\n",
    "Автоматизируем процесс:"
   ]
  },
  {
   "cell_type": "code",
   "execution_count": 2,
   "metadata": {},
   "outputs": [
    {
     "name": "stdout",
     "output_type": "stream",
     "text": [
      "Загадано число от 1 до 100\n",
      "Вы угадали число 53 за 53 попыток.\n"
     ]
    }
   ],
   "source": [
    "number = np.random.randint(1,101)      # загадали число\n",
    "print (\"Загадано число от 1 до 100\")\n",
    "for count in range(1,101):         # более компактный вариант счетчика\n",
    "    if number == count: break      # выход из цикла, если угадали      \n",
    "print (f\"Вы угадали число {number} за {count} попыток.\")    \n"
   ]
  },
  {
   "cell_type": "markdown",
   "metadata": {},
   "source": [
    "Повторим 1000 раз, чтоб понять, насколько быстро в среднем работает наше решение. Для этого сразу завернём игру в функцию, чтобы её потом было проще менять и к ней обращаться.\n",
    "\n"
   ]
  },
  {
   "cell_type": "code",
   "execution_count": 3,
   "metadata": {},
   "outputs": [],
   "source": [
    "def game_core_v1(number):\n",
    "    '''Просто угадываем на random, никак не используя информацию о больше или меньше.\n",
    "       Функция принимает загаданное число и возвращает число попыток'''\n",
    "    count = 0\n",
    "    while True:\n",
    "        count+=1\n",
    "        predict = np.random.randint(1,101) # предполагаемое число\n",
    "        if number == predict: \n",
    "            return count # выход из цикла, если угадали\n",
    "\n",
    "def score_game(game_core):\n",
    "    '''Запускаем игру 1000 раз, чтобы узнать, как быстро игра угадывает число'''\n",
    "    count_ls = []\n",
    "    np.random.seed(1)  # фиксируем RANDOM SEED, чтобы ваш эксперимент был воспроизводим!\n",
    "    random_array = np.random.randint(1,101, size=(1000))\n",
    "    for number in random_array:\n",
    "        count_ls.append(game_core(number))\n",
    "    score = int(np.mean(count_ls))\n",
    "    print(f\"Ваш алгоритм угадывает число в среднем за {score} попыток\")\n",
    "    return(score)\n",
    "\n"
   ]
  },
  {
   "cell_type": "code",
   "execution_count": 4,
   "metadata": {},
   "outputs": [
    {
     "name": "stdout",
     "output_type": "stream",
     "text": [
      "Ваш алгоритм угадывает число в среднем за 101 попыток\n"
     ]
    },
    {
     "data": {
      "text/plain": [
       "101"
      ]
     },
     "execution_count": 4,
     "metadata": {},
     "output_type": "execute_result"
    }
   ],
   "source": [
    "score_game(game_core_v1)"
   ]
  },
  {
   "cell_type": "markdown",
   "metadata": {},
   "source": [
    "Вывод такой:\n",
    "\n",
    "Ваш алгоритм угадывает число в среднем за 101 попытку\n",
    "\n",
    "Давайте напишем что-то, что учитывает информацию о том, что число больше или меньше нужного нам:\n",
    "\n"
   ]
  },
  {
   "cell_type": "code",
   "execution_count": 5,
   "metadata": {},
   "outputs": [],
   "source": [
    "def game_core_v2(number):\n",
    "    '''Сначала устанавливаем любое random число, а потом уменьшаем или увеличиваем его в зависимости от того, больше оно или меньше нужного.\n",
    "    Функция принимает загаданное число и возвращает число попыток'''\n",
    "    count = 1\n",
    "    predict = np.random.randint(1,101)\n",
    "    while number != predict:\n",
    "        count+=1\n",
    "        if number > predict: \n",
    "            predict += 1\n",
    "        elif number < predict: \n",
    "            predict -= 1\n",
    "    return(count) # выход из цикла, если угадали"
   ]
  },
  {
   "cell_type": "code",
   "execution_count": 6,
   "metadata": {},
   "outputs": [
    {
     "name": "stdout",
     "output_type": "stream",
     "text": [
      "Ваш алгоритм угадывает число в среднем за 33 попыток\n"
     ]
    },
    {
     "data": {
      "text/plain": [
       "33"
      ]
     },
     "execution_count": 6,
     "metadata": {},
     "output_type": "execute_result"
    }
   ],
   "source": [
    "    score_game(game_core_v2)"
   ]
  },
  {
   "cell_type": "markdown",
   "metadata": {},
   "source": [
    "Вывод такой:\n",
    "\n",
    "Ваш алгоритм угадывает число в среднем за 30 попыток"
   ]
  },
  {
   "cell_type": "code",
   "execution_count": 7,
   "metadata": {},
   "outputs": [],
   "source": [
    "def game_core_v3(number):\n",
    "    '''Сначала устанавливаем любое random число, а потом уменьшаем или увеличиваем его в зависимости от того,\n",
    "    больше оно или меньше нужного. Функция принимает загаданное число и возвращает число попыток'''\n",
    "    \n",
    "    count = 1\n",
    "   \n",
    "    predict = np.random.randint(1,101)\n",
    "    lowest_half_limit = 0\n",
    "    highest_half_limit = 100\n",
    "    count = 0\n",
    "    \n",
    "    while number != predict:\n",
    "        count+=1\n",
    "        if predict == number:\n",
    "            break # выход из цикла, если угадали\n",
    "        elif predict < number: \n",
    "            lowest_half_limit = predict\n",
    "            predict = round((predict + highest_half_limit)/2) '''Округляем при делении результат с\n",
    "        помощью функции round при необходимости. Исходя из гипотезы, если предугадываемое число меньше \n",
    "        загадываемого числа, то предугадываемое число мы складываем с наивысшей числовой половиной границы \n",
    "        загадываемого числа и эту сумму делим пополам, как упоминалось выше, округляя число с помощью встроенной функцией round'''\n",
    "                \n",
    "        else:\n",
    "            highest_half_limit = predict \n",
    "            predict = round((predict + lowest_half_limit)/2) '''Округляем при делении результат с\n",
    "        помощью функции round при необходимости. Исходя из гипотезы, если предугадываемое число больше\n",
    "        загадываемого числа, то предугадываемое число мы складываем с наименьшей числовой половиной границы \n",
    "        загадываемого числа и эту сумму делим пополам, как упоминалось выше, округляя число с помощью\n",
    "        встроенной функцией round'''\n",
    "            \n",
    "            \n",
    "    return(count) # выход из цикла, если угадали\n",
    "\n",
    "\n",
    "\n"
   ]
  },
  {
   "cell_type": "code",
   "execution_count": 8,
   "metadata": {},
   "outputs": [
    {
     "name": "stdout",
     "output_type": "stream",
     "text": [
      "Ваш алгоритм угадывает число в среднем за 5 попыток\n"
     ]
    },
    {
     "data": {
      "text/plain": [
       "5"
      ]
     },
     "execution_count": 8,
     "metadata": {},
     "output_type": "execute_result"
    }
   ],
   "source": [
    "    score_game(game_core_v3)"
   ]
  },
  {
   "cell_type": "markdown",
   "metadata": {},
   "source": [
    "##### Вывод такой:\n",
    "Ваш алгоритм угадывает число в среднем за 5 попыток"
   ]
  }
 ],
 "metadata": {
  "kernelspec": {
   "display_name": "Python 3",
   "language": "python",
   "name": "python3"
  },
  "language_info": {
   "codemirror_mode": {
    "name": "ipython",
    "version": 3
   },
   "file_extension": ".py",
   "mimetype": "text/x-python",
   "name": "python",
   "nbconvert_exporter": "python",
   "pygments_lexer": "ipython3",
   "version": "3.8.5"
  }
 },
 "nbformat": 4,
 "nbformat_minor": 4
}
